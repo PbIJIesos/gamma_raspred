{
 "cells": [
  {
   "cell_type": "code",
   "execution_count": null,
   "id": "a75d13fa",
   "metadata": {},
   "outputs": [],
   "source": [
    "dispersion = [5, 5, 9, 3.8, 0.7, 1.2, 1.9, 2.4, 3.2, 0.03, 17]\n",
    "n = [100, 2000, 10000, 5000, 6000, 3000, 500, 8000, 4500, 1000, 10000]"
   ]
  },
  {
   "cell_type": "code",
   "execution_count": 153,
   "id": "41d9d70e",
   "metadata": {
    "scrolled": true
   },
   "outputs": [
    {
     "data": {
      "image/png": "[encoded data removed]",
      "text/plain": [
       "<Figure size 432x288 with 1 Axes>"
      ]
     },
     "metadata": {
      "needs_background": "light"
     },
     "output_type": "display_data"
    },
    {
     "name": "stdout",
     "output_type": "stream",
     "text": [
      "Математическое ожидание M(X) = 12.0146\n",
      "Дисперсия Д(X) = 16.71\n"
     ]
    }
   ],
   "source": [
    "import matplotlib.pyplot as plt\n",
    "import scipy.special as sps  \n",
    "\n",
    "shape, scale = 144./17, 17/12.\n",
    "s = np.random.gamma(shape, scale, 10000)\n",
    "\n",
    "count, bins, ignored = plt.hist(s, 50, density=True)\n",
    "y = bins**(shape-1)*(np.exp(-bins/scale) / (sps.gamma(shape)*scale**shape))\n",
    "plt.plot(bins, y, linewidth=2, color='r')  \n",
    "plt.show()\n",
    "\n",
    "print(f\"Математическое ожидание M(X) = {np.round(s.mean(), 4)}\")\n",
    "print(f\"Дисперсия Д(X) = {np.round(s.var(), 2)}\")\n",
    "\n",
    "np.savetxt(\"array№10_disp17_n10000.csv\", s, delimiter=\",\")"
   ]
  },
  {
   "cell_type": "code",
   "execution_count": 154,
   "id": "a4a71be1",
   "metadata": {},
   "outputs": [
    {
     "data": {
      "text/plain": [
       "array([16.93178447,  7.88360604, 13.16723363, ..., 15.57250968,\n",
       "       10.45031647,  7.44588874])"
      ]
     },
     "execution_count": 154,
     "metadata": {},
     "output_type": "execute_result"
    }
   ],
   "source": [
    "s"
   ]
  },
  {
   "cell_type": "code",
   "execution_count": null,
   "id": "6ccd4b06",
   "metadata": {},
   "outputs": [],
   "source": []
  },
  {
   "cell_type": "code",
   "execution_count": null,
   "id": "66796043",
   "metadata": {},
   "outputs": [],
   "source": []
  }
 ],
 "metadata": {
  "kernelspec": {
   "display_name": "Python 3 (ipykernel)",
   "language": "python",
   "name": "python3"
  },
  "language_info": {
   "codemirror_mode": {
    "name": "ipython",
    "version": 3
   },
   "file_extension": ".py",
   "mimetype": "text/x-python",
   "name": "python",
   "nbconvert_exporter": "python",
   "pygments_lexer": "ipython3",
   "version": "3.9.12"
  }
 },
 "nbformat": 4,
 "nbformat_minor": 5
}
